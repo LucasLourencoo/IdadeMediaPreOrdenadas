{
 "cells": [
  {
   "cell_type": "code",
   "execution_count": 1,
   "metadata": {},
   "outputs": [
    {
     "name": "stdout",
     "output_type": "stream",
     "text": [
      "Lourenço\n",
      "A idade média da família Lourenço é de 42.7. Eles têm 3 familiares.\n"
     ]
    }
   ],
   "source": [
    "familias = ['Barbosa', 'Lourenço', 'Lima', 'Braga']\n",
    "nmr_fml = [7, 3, 2, 5]\n",
    "idade_familiares = [[45, 50, 60, 37, 40, 30, 33],\n",
    "[19, 52, 57],\n",
    "[19, 45],\n",
    "[60, 59, 19, 33, 5]]\n",
    "pesquisacorresp = input('insira uma das famílias da lista que deseja descobrir a idade').strip().title()\n",
    "\n",
    "if pesquisacorresp in familias:\n",
    "\n",
    "    i = familias.index(pesquisacorresp)\n",
    "    \n",
    "    nmr_familiar_corresp = nmr_fml[i]\n",
    "    idade_familiares_corresp = idade_familiares[i]\n",
    "    nome_familiar = familias[i]\n",
    "    print(nome_familiar)\n",
    "\n",
    "    qnt_fml = nmr_familiar_corresp\n",
    "    soma = 0\n",
    "    for i in range(qnt_fml):\n",
    "            \n",
    "        idade = idade_familiares_corresp[i]\n",
    "        soma += idade  \n",
    "    \n",
    "    idade_media = soma / qnt_fml  \n",
    "    print('A idade média da família {} é de {:.1f}. Eles têm {} familiares.'.format(nome_familiar, idade_media, nmr_familiar_corresp))\n",
    "elif pesquisacorresp == '':\n",
    "    print('Insira algum nome, por favor.')\n",
    "else: \n",
    "    print('Não temos esta família no nosso banco de dados')\n",
    "    searchlist = [['s', 'sim', 'desejo', 'quero', 'si', 'sí' ],\n",
    "    ['n', 'não', 'não quero', 'não desejo', 'nao', 'na', 'no'],\n",
    "    ]\n",
    "    search = input('Deseja inserir a família {} no nossoa banco de dados?'.format(pesquisacorresp))\n",
    "    if search in searchlist[0]:\n",
    "        \n",
    "        #adicionar família \n",
    "        familias.append(pesquisacorresp)\n",
    "        indice_familia = familias.index(pesquisacorresp)\n",
    "        \n",
    "        #adicionar quantidades de pessoas da família\n",
    "        qnt_nova_fml = int(input('Quantas pessoas têm nesta família?').strip())\n",
    "        nmr_fml.append(qnt_nova_fml)\n",
    "\n",
    "        #definir a idade de cada um deles\n",
    "        contador = 0\n",
    "        idade_corresp_nova_adc = []\n",
    "        while contador < qnt_nova_fml:\n",
    "            idade_corresp_nova = int(input('Insira a idade correspondente à {}º pessoa'.format(contador + 1 )))#para não precisar criar outra variável, usei o contador + 1 para definiar o referencial de pessoa\n",
    "            idade_corresp_nova_adc.append(idade_corresp_nova)\n",
    "            contador += 1\n",
    "        \n",
    "        idade_familiares.append(idade_corresp_nova_adc)\n",
    "\n",
    "        print(', '.join(familias))\n",
    "        print(nmr_fml)\n",
    "        print(idade_familiares)\n",
    "            \n",
    "    elif search in searchlist[1]:\n",
    "        print('Esta família não será adicionada.')        "
   ]
  }
 ],
 "metadata": {
  "kernelspec": {
   "display_name": "Python 3.9.7 ('base')",
   "language": "python",
   "name": "python3"
  },
  "language_info": {
   "codemirror_mode": {
    "name": "ipython",
    "version": 3
   },
   "file_extension": ".py",
   "mimetype": "text/x-python",
   "name": "python",
   "nbconvert_exporter": "python",
   "pygments_lexer": "ipython3",
   "version": "3.9.7"
  },
  "orig_nbformat": 4,
  "vscode": {
   "interpreter": {
    "hash": "665796ea3363072d3a6057ac2fdbe3c4fcb0d17a4b92295d9707f78e9c46c0af"
   }
  }
 },
 "nbformat": 4,
 "nbformat_minor": 2
}
